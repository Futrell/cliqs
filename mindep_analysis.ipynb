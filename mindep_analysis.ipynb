{
 "cells": [
  {
   "cell_type": "code",
   "execution_count": 2,
   "metadata": {
    "autoscroll": false,
    "collapsed": false,
    "deletable": true,
    "editable": true
   },
   "outputs": [
    {
     "name": "stderr",
     "output_type": "stream",
     "text": [
      "Loading required package: Matrix\n",
      "\n",
      "Attaching package: ‘Matrix’\n",
      "\n",
      "The following object is masked from ‘package:tidyr’:\n",
      "\n",
      "    expand\n",
      "\n"
     ]
    },
    {
     "ename": "ERROR",
     "evalue": "Error: package or namespace load failed for ‘lme4’\n",
     "output_type": "error",
     "traceback": [
      "Error: package or namespace load failed for ‘lme4’\nTraceback:\n",
      "1. library(lme4)",
      "2. stop(gettextf(\"package or namespace load failed for %s\", sQuote(package)), \n .     call. = FALSE, domain = NA)"
     ]
    }
   ],
   "source": [
    "options(jupyter.plot_mimetypes = 'image/png')\n",
    "options(warn=-1)\n",
    "\n",
    "library(tidyr)\n",
    "library(dplyr)\n",
    "library(lme4)\n",
    "library(lmerTest)\n",
    "\n",
    "DATA_FILENAME = \"result.csv\"\n",
    "\n",
    "fit_by_lang = function(dm) {\n",
    "    # Make sure the real sentences are the baseline\n",
    "    the_levels = levels(dm$real)\n",
    "    the_levels_without_real = the_levels[the_levels != \"real\"]\n",
    "    the_levels_reordered = c(\"real\", the_levels_without_real)\n",
    "    dm$real = factor(dm$real, levels=the_levels_reordered)\n",
    "\n",
    "    # Do two regressions\n",
    "    # Dependency length should be predicted by (squared) length for the different factors;\n",
    "    # what would a main effect of these factors on dependency length even mean?\n",
    "    dm %>% group_by(lang) %>% mutate(start_line=as.factor(start_line)) %>% do(\n",
    "        model2 = lmer(value ~ length2 * real + (1+real|start_line), data=., REML=F),\n",
    "        model2_noint = lmer(value ~ length2 + real + (1+real|start_line), data=., REML=F)\n",
    "        #model2_without = lmer(value ~ length2 + (1+real|start_line), data=., REML=F)\n",
    "    )\n",
    "}\n",
    "\n",
    "summarise_model_coefs = function(dm) {\n",
    "    dm %>% summarise( # crazy indexing garbage... otherwise it breaks\n",
    "        intercept2 = summary(model2[[1]])[[10]][1],\n",
    "        coef2 = summary(model2[[1]])[[10]][2]\n",
    "    )\n",
    "}\n",
    "\n",
    "summarise_model_significance = function(dm) {\n",
    "    dm %>% do( # some crazy indexing garbage here...\n",
    "        aov = anova(.$model2[[1]], .$model2_without[[1]]),\n",
    "        aov.int = anova(.$model2[[1]], .$model2_noint[[1]])\n",
    "    ) %>% summarise(p.value = aov[[1]]$`Pr(>Chisq)`[[2]],\n",
    "                    p.value.int = aov.int[[1]]$`Pr(>Chisq)`[[2]]\n",
    "    )\n",
    "}\n",
    "\n",
    "analyze_by_lang = function(d) {\n",
    "    print(\"Fitting models...\")\n",
    "    fits = fit_by_lang(dm)\n",
    "\n",
    "    print(fits)\n",
    "\n",
    "    print(\"Summarising coefficients...\")\n",
    "    coefs = summarise_model_coefs(fits)\n",
    "\n",
    "    print(\"Getting model significance...\")\n",
    "    sigs = summarise_model_significance(fits)\n",
    "\n",
    "    print(list(fits, coefs, sigs))\n",
    "}\n",
    "\n",
    "analyze_all_langs = function(dm, name) {\n",
    "    model.filename = paste(\"m2\", name, \".rda\")\n",
    "    print(\"Fitting quadratic model.\")\n",
    "    m2 = lmer(value ~ length2.cent * real + (1+real|start_line:lang:family) + (1+real|lang:family) + (1+real|family), data=dm, REML=F)\n",
    "    save(m2, file=model.filename)\n",
    "    remove(m2)\n",
    "}\n",
    "\n",
    "d = read.csv(DATA_FILENAME)\n",
    "d %>% filter(real != \"Unnamed: \") %>%\n",
    "  select(-X) %>%\n",
    "  mutate(length2 = length^2) %>%\n",
    "  fit_by_lang() %>%\n",
    "  save(file=\"monster_models.rda\")\n",
    "\n",
    "# The quadratic model is worse than the linear one in 4/34 languages\n",
    "# (by AIC/BIC using anova). So let's just use the quadratic model going\n",
    "# forward. (The double-quadratic model is worse in all languages.)\n"
   ]
  }
 ],
 "metadata": {
  "kernelspec": {
   "display_name": "R",
   "language": "R",
   "name": "ir"
  },
  "language_info": {
   "codemirror_mode": "r",
   "file_extension": ".r",
   "mimetype": "text/x-r-source",
   "name": "R",
   "pygments_lexer": "r",
   "version": "3.3.2"
  }
 },
 "nbformat": 4,
 "nbformat_minor": 0
}
