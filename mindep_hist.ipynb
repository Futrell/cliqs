{
 "cells": [
  {
   "cell_type": "code",
   "execution_count": 1,
   "metadata": {
    "autoscroll": false,
    "collapsed": false,
    "deletable": true,
    "editable": true
   },
   "outputs": [
    {
     "name": "stderr",
     "output_type": "stream",
     "text": [
      "\n",
      "Attaching package: ‘dplyr’\n",
      "\n",
      "The following objects are masked from ‘package:stats’:\n",
      "\n",
      "    filter, lag\n",
      "\n",
      "The following objects are masked from ‘package:base’:\n",
      "\n",
      "    intersect, setdiff, setequal, union\n",
      "\n"
     ]
    }
   ],
   "source": [
    "options(jupyter.plot_mimetypes = 'image/png')\n",
    "options(warn=-1)\n",
    "\n",
    "library(ggplot2)\n",
    "library(dplyr)\n",
    "library(tidyr)\n",
    "library(plotrix)\n",
    "\n",
    "LENGTH = 12\n",
    "DATA_FILENAME = \"result.csv\"\n",
    "\n",
    "d = read.csv(DATA_FILENAME) %>%\n",
    "  select(-X) %>%\n",
    "  filter(length >= LENGTH)\n",
    "\n",
    "typology = read.csv(\"typology3.csv\")"
   ]
  },
  {
   "cell_type": "code",
   "execution_count": null,
   "metadata": {
    "collapsed": true
   },
   "outputs": [],
   "source": [
    "do_plot = function(d) {\n",
    "  d %>%\n",
    "    filter(real %in% c(\"real\", \"free random\")) %>%\n",
    "    inner_join(typology) %>%\n",
    "    group_by(lang_name, real) %>%\n",
    "      summarise(m=mean(value),\n",
    "                s=std.error(value),\n",
    "  \t        u=m+1.96*s,\n",
    "  \t        l=m-1.96*s) %>%\n",
    "      ungroup() %>%\n",
    "    ggplot(aes(x=real, y=m, color=real, fill=real)) +\n",
    "      geom_bar(stat='identity') +\n",
    "      geom_errorbar(aes(ymin=l, ymax=u), color='black') +\n",
    "      facet_wrap(~lang_name) +\n",
    "      theme_bw() +\n",
    "      ylab(\"dependency length\") +\n",
    "      xlab(\"\") +\n",
    "      theme(axis.text.x=element_blank()) +\n",
    "      scale_fill_discrete(name=\"Condition\") +\n",
    "      scale_color_discrete(guide=FALSE)\n",
    "}\n",
    "\n",
    "d %>% filter(length == LENGTH) %>% do_plot()\n",
    "#ggsave(\"langs_deplen_bars_12.pdf\", width=9.16, height=6.5)"
   ]
  }
 ],
 "metadata": {
  "kernelspec": {
   "display_name": "R",
   "language": "R",
   "name": "ir"
  },
  "language_info": {
   "codemirror_mode": "r",
   "file_extension": ".r",
   "mimetype": "text/x-r-source",
   "name": "R",
   "pygments_lexer": "r",
   "version": "3.3.2"
  }
 },
 "nbformat": 4,
 "nbformat_minor": 0
}
